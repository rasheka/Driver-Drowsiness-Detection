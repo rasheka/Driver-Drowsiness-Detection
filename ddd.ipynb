{
 "cells": [
  {
   "cell_type": "code",
   "execution_count": 15,
   "metadata": {},
   "outputs": [],
   "source": [
    "from scipy.spatial import distance #for euclidean distance\n",
    "from imutils import face_utils #for finding facial landmarks\n",
    "import imutils\n",
    "import dlib\n",
    "import cv2\n",
    "import os"
   ]
  },
  {
   "cell_type": "code",
   "execution_count": 20,
   "metadata": {},
   "outputs": [],
   "source": [
    "#finding euclidean distance between coordinates\n",
    "#sqrt(a^2 + b^2)\n",
    "def eye_aspect_ratio(eye):\n",
    "    A = distance.euclidean(eye[1], eye[5]) \n",
    "    B = distance.euclidean(eye[2], eye[4])\n",
    "    C = distance.euclidean(eye[0], eye[3])\n",
    "    #(vectical distance(A) + vectical distance(B))/(2*horizontal distance(C))\n",
    "    ear = (A + B) / (2.0 * C)\n",
    "    return ear"
   ]
  },
  {
   "cell_type": "code",
   "execution_count": 17,
   "metadata": {},
   "outputs": [],
   "source": [
    "thresh = 0.25\n",
    "frame_check = 60 #human visual system can process 10 to 12 images per second\n",
    "#almost 6 seconds eyes are closed\n",
    "detect = dlib.get_frontal_face_detector()#contains faces of humans in jpg\n",
    "#detects face of human\n",
    "predict = dlib.shape_predictor(\"shape_predictor_68_face_landmarks(1).dat\") #downloading all facial landmarks"
   ]
  },
  {
   "cell_type": "code",
   "execution_count": 18,
   "metadata": {},
   "outputs": [],
   "source": [
    "(lStart, lEnd) = face_utils.FACIAL_LANDMARKS_IDXS[\"left_eye\"]#storing starting and ending points of left eye; 37, 42\n",
    "(rStart, rEnd) = face_utils.FACIAL_LANDMARKS_IDXS[\"right_eye\"]#storing starting and ending points of right eye; 43, 48\n",
    "#for alarm\n",
    "duration = 1  # seconds\n",
    "freq = 440  # Hz"
   ]
  },
  {
   "cell_type": "code",
   "execution_count": 19,
   "metadata": {},
   "outputs": [],
   "source": [
    "cap=cv2.VideoCapture(0) #opens camera\n",
    "flag=0\n",
    "while True:\n",
    "    ret, frame=cap.read() #reading frames\n",
    "    frame = imutils.resize(frame, width=450) #resizing frame for better processing\n",
    "    gray = cv2.cvtColor(frame, cv2.COLOR_BGR2GRAY) #frame is converted to gray scale\n",
    "    subjects = detect(gray, 0) #cropping the facial area only\n",
    "    for subject in subjects:\n",
    "        shape = predict(gray, subject) #predicting all facial landmarks on the cropped face\n",
    "        shape = face_utils.shape_to_np(shape)#converting to NumPy Array\n",
    "        leftEye = shape[lStart:lEnd] #getting all the left eye points in an array\n",
    "        rightEye = shape[rStart:rEnd] #getting all the right eye points in an array\n",
    "        leftEAR = eye_aspect_ratio(leftEye) #calculating aspect ratio for left eye\n",
    "        rightEAR = eye_aspect_ratio(rightEye) #calculating aspect ratio for right eye\n",
    "        ear = (leftEAR + rightEAR) / 2.0 #finding average of aspect ratios\n",
    "        #The convex hull of a set of points is defined as the smallest convex polygon, that \n",
    "        #encloses all of the points in the set. \n",
    "        #It connects all the outer points to club all points in a polygon.\n",
    "        leftEyeHull = cv2.convexHull(leftEye) \n",
    "        rightEyeHull = cv2.convexHull(rightEye)\n",
    "        cv2.drawContours(frame, [leftEyeHull], -1, (0, 255, 0), 1) #drawing green countour in left eye\n",
    "        cv2.drawContours(frame, [rightEyeHull], -1, (0, 255, 0), 1) #drawing green countour in right eye\n",
    "        if ear < thresh: #eye is closed\n",
    "            flag += 1\n",
    "            if flag >= frame_check: #eye is closed for longer period of time(I have taken 6 seconds)\n",
    "                cv2.putText(frame, \"****************ALERT!****************\", (10, 30),\n",
    "                    cv2.FONT_HERSHEY_SIMPLEX, 0.7, (0, 0, 255), 2) #In Red colored font Alert is printed\n",
    "                cv2.putText(frame, \"****************ALERT!****************\", (10,325),\n",
    "                    cv2.FONT_HERSHEY_SIMPLEX, 0.7, (0, 0, 255), 2)\n",
    "                os.system('play -nq -t alsa synth {} sine {}'.format(duration, freq)) #system tune\n",
    "                #played for all frames whose values satisfy the conditions\n",
    "        else:\n",
    "            flag = 0\n",
    "    cv2.imshow(\"Frame\", frame)\n",
    "    key = cv2.waitKey(1) & 0xFF\n",
    "    if key == ord(\"q\"):\n",
    "        cv2.destroyAllWindows()\n",
    "        cap.release()\n",
    "        break\n"
   ]
  },
  {
   "cell_type": "code",
   "execution_count": null,
   "metadata": {},
   "outputs": [],
   "source": []
  }
 ],
 "metadata": {
  "kernelspec": {
   "display_name": "Python 3",
   "language": "python",
   "name": "python3"
  },
  "language_info": {
   "codemirror_mode": {
    "name": "ipython",
    "version": 3
   },
   "file_extension": ".py",
   "mimetype": "text/x-python",
   "name": "python",
   "nbconvert_exporter": "python",
   "pygments_lexer": "ipython3",
   "version": "3.7.6"
  }
 },
 "nbformat": 4,
 "nbformat_minor": 4
}
